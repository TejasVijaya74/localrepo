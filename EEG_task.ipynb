{
  "nbformat": 4,
  "nbformat_minor": 0,
  "metadata": {
    "colab": {
      "provenance": [],
      "gpuType": "T4",
      "authorship_tag": "ABX9TyPz5lYjfkz9FGZS/Hod+DS0",
      "include_colab_link": true
    },
    "kernelspec": {
      "name": "python3",
      "display_name": "Python 3"
    },
    "language_info": {
      "name": "python"
    },
    "accelerator": "GPU"
  },
  "cells": [
    {
      "cell_type": "markdown",
      "metadata": {
        "id": "view-in-github",
        "colab_type": "text"
      },
      "source": [
        "<a href=\"https://colab.research.google.com/github/TejasVijaya74/localrepo/blob/main/EEG_task.ipynb\" target=\"_parent\"><img src=\"https://colab.research.google.com/assets/colab-badge.svg\" alt=\"Open In Colab\"/></a>"
      ]
    },
    {
      "cell_type": "code",
      "execution_count": 7,
      "metadata": {
        "colab": {
          "base_uri": "https://localhost:8080/"
        },
        "id": "W6DX_KPLuDBi",
        "outputId": "c335b477-faa6-4444-942a-341b86544dc8"
      },
      "outputs": [
        {
          "output_type": "stream",
          "name": "stdout",
          "text": [
            "Requirement already satisfied: mne in /usr/local/lib/python3.11/dist-packages (1.9.0)\n",
            "Requirement already satisfied: h5py in /usr/local/lib/python3.11/dist-packages (3.14.0)\n",
            "Requirement already satisfied: numpy in /usr/local/lib/python3.11/dist-packages (2.0.2)\n",
            "Requirement already satisfied: matplotlib in /usr/local/lib/python3.11/dist-packages (3.10.0)\n",
            "Requirement already satisfied: decorator in /usr/local/lib/python3.11/dist-packages (from mne) (4.4.2)\n",
            "Requirement already satisfied: jinja2 in /usr/local/lib/python3.11/dist-packages (from mne) (3.1.6)\n",
            "Requirement already satisfied: lazy-loader>=0.3 in /usr/local/lib/python3.11/dist-packages (from mne) (0.4)\n",
            "Requirement already satisfied: packaging in /usr/local/lib/python3.11/dist-packages (from mne) (24.2)\n",
            "Requirement already satisfied: pooch>=1.5 in /usr/local/lib/python3.11/dist-packages (from mne) (1.8.2)\n",
            "Requirement already satisfied: scipy>=1.9 in /usr/local/lib/python3.11/dist-packages (from mne) (1.15.3)\n",
            "Requirement already satisfied: tqdm in /usr/local/lib/python3.11/dist-packages (from mne) (4.67.1)\n",
            "Requirement already satisfied: contourpy>=1.0.1 in /usr/local/lib/python3.11/dist-packages (from matplotlib) (1.3.2)\n",
            "Requirement already satisfied: cycler>=0.10 in /usr/local/lib/python3.11/dist-packages (from matplotlib) (0.12.1)\n",
            "Requirement already satisfied: fonttools>=4.22.0 in /usr/local/lib/python3.11/dist-packages (from matplotlib) (4.58.4)\n",
            "Requirement already satisfied: kiwisolver>=1.3.1 in /usr/local/lib/python3.11/dist-packages (from matplotlib) (1.4.8)\n",
            "Requirement already satisfied: pillow>=8 in /usr/local/lib/python3.11/dist-packages (from matplotlib) (11.2.1)\n",
            "Requirement already satisfied: pyparsing>=2.3.1 in /usr/local/lib/python3.11/dist-packages (from matplotlib) (3.2.3)\n",
            "Requirement already satisfied: python-dateutil>=2.7 in /usr/local/lib/python3.11/dist-packages (from matplotlib) (2.9.0.post0)\n",
            "Requirement already satisfied: platformdirs>=2.5.0 in /usr/local/lib/python3.11/dist-packages (from pooch>=1.5->mne) (4.3.8)\n",
            "Requirement already satisfied: requests>=2.19.0 in /usr/local/lib/python3.11/dist-packages (from pooch>=1.5->mne) (2.32.3)\n",
            "Requirement already satisfied: six>=1.5 in /usr/local/lib/python3.11/dist-packages (from python-dateutil>=2.7->matplotlib) (1.17.0)\n",
            "Requirement already satisfied: MarkupSafe>=2.0 in /usr/local/lib/python3.11/dist-packages (from jinja2->mne) (3.0.2)\n",
            "Requirement already satisfied: charset-normalizer<4,>=2 in /usr/local/lib/python3.11/dist-packages (from requests>=2.19.0->pooch>=1.5->mne) (3.4.2)\n",
            "Requirement already satisfied: idna<4,>=2.5 in /usr/local/lib/python3.11/dist-packages (from requests>=2.19.0->pooch>=1.5->mne) (3.10)\n",
            "Requirement already satisfied: urllib3<3,>=1.21.1 in /usr/local/lib/python3.11/dist-packages (from requests>=2.19.0->pooch>=1.5->mne) (2.4.0)\n",
            "Requirement already satisfied: certifi>=2017.4.17 in /usr/local/lib/python3.11/dist-packages (from requests>=2.19.0->pooch>=1.5->mne) (2025.6.15)\n",
            "✅ Libraries installed successfully!\n"
          ]
        }
      ],
      "source": [
        "# Install required packages\n",
        "!pip install mne h5py numpy matplotlib\n",
        "\n",
        "# Import necessary libraries\n",
        "import numpy as np\n",
        "import mne\n",
        "import h5py\n",
        "import matplotlib.pyplot as plt\n",
        "import warnings\n",
        "warnings.filterwarnings('ignore')\n",
        "\n",
        "print(\"✅ Libraries installed successfully!\")\n"
      ]
    },
    {
      "cell_type": "code",
      "source": [
        "#from google.colab import files\n",
        "#import os\n",
        "\n",
        "# Upload your BDF file\n",
        "#print(\" Please select your BDF file to upload:\")\n",
        "#uploaded = files.upload()\n",
        "\n",
        "# Get the filename\n",
        "#bdf_filename = list(uploaded.keys())[0]\n",
        "#print(f\" File uploaded: {bdf_filename}\")\n"
      ],
      "metadata": {
        "id": "xkq9VPoRucYS"
      },
      "execution_count": 8,
      "outputs": []
    },
    {
      "cell_type": "code",
      "source": [
        "import os\n",
        "print(\"📁 Files in session storage:\")\n",
        "for file in os.listdir('/content/'):\n",
        "    print(f\"  - {file}\")\n"
      ],
      "metadata": {
        "colab": {
          "base_uri": "https://localhost:8080/"
        },
        "id": "RqxZGJXezFrd",
        "outputId": "5e0cd8bb-66ac-4064-ecfe-a0fecb73ddc0"
      },
      "execution_count": 9,
      "outputs": [
        {
          "output_type": "stream",
          "name": "stdout",
          "text": [
            "📁 Files in session storage:\n",
            "  - .config\n",
            "  - EEG_Cat_Study4_II_II_S10.bdf\n",
            "  - sample_data\n"
          ]
        }
      ]
    },
    {
      "cell_type": "code",
      "source": [
        "import os\n",
        "# Find BDF files in the session storage\n",
        "bdf_files = [f for f in os.listdir('/content/') if f.endswith('.bdf')]\n",
        "print(\"📊 BDF files found:\")\n",
        "for i, file in enumerate(bdf_files):\n",
        "    print(f\"  {i+1}. {file}\")\n",
        "\n",
        "if bdf_files:\n",
        "    # Use the first BDF file found\n",
        "    bdf_filename = bdf_files[0]\n",
        "    print(f\"\\n✅ Using: {bdf_filename}\")\n",
        "else:\n",
        "    print(\"❌ No BDF files found in session storage\")\n"
      ],
      "metadata": {
        "colab": {
          "base_uri": "https://localhost:8080/"
        },
        "id": "K4ZRvnqSzHmn",
        "outputId": "c4e2a1a9-c822-49dc-cb91-5a3b50e98ca5"
      },
      "execution_count": 10,
      "outputs": [
        {
          "output_type": "stream",
          "name": "stdout",
          "text": [
            "📊 BDF files found:\n",
            "  1. EEG_Cat_Study4_II_II_S10.bdf\n",
            "\n",
            "✅ Using: EEG_Cat_Study4_II_II_S10.bdf\n"
          ]
        }
      ]
    },
    {
      "cell_type": "code",
      "source": [
        "def preprocess_bdf_to_h5(input_file, output_file):\n",
        "    \"\"\"\n",
        "    Preprocess BDF EEG data according to LaBraM specifications:\n",
        "    - Remove non-EEG channels\n",
        "    - Bandpass filter: 0.1-75 Hz\n",
        "    - Notch filter: 50 Hz (or 60 Hz for US data)\n",
        "    - Resample: 200 Hz\n",
        "    - Convert to μV\n",
        "    - Save as HDF5\n",
        "    \"\"\"\n",
        "\n",
        "    print(f\"🔄 Processing BDF file: {input_file}\")\n",
        "\n",
        "    # Load BDF file\n",
        "    try:\n",
        "        raw = mne.io.read_raw_bdf(input_file, preload=True, verbose=False)\n",
        "        print(f\"✅ Successfully loaded BDF file\")\n",
        "    except Exception as e:\n",
        "        print(f\"❌ Error loading file: {e}\")\n",
        "        return False\n",
        "\n",
        "    # Display original file info\n",
        "    print(f\"📊 Original data shape: {raw.get_data().shape}\")\n",
        "    print(f\"📊 Original sampling rate: {raw.info['sfreq']} Hz\")\n",
        "    print(f\"📊 Original channels: {len(raw.ch_names)}\")\n",
        "    print(f\"📊 Recording duration: {raw.times[-1]:.2f} seconds\")\n",
        "\n",
        "    # Remove non-EEG channels (keep only EEG channels)\n",
        "    print(\"\\n🔧 Selecting EEG channels only...\")\n",
        "    picks = mne.pick_types(raw.info, eeg=True, exclude='bads')\n",
        "\n",
        "    if len(picks) == 0:\n",
        "        # If no EEG channels detected, try to identify them manually\n",
        "        print(\"⚠️  No EEG channels auto-detected. Trying to identify manually...\")\n",
        "        # For BioSemi, typically exclude Status and trigger channels\n",
        "        eeg_channels = [ch for ch in raw.ch_names if not ch.startswith('Status')\n",
        "                       and not ch.startswith('Trigger') and not ch.startswith('GSR')]\n",
        "        raw.pick_channels(eeg_channels)\n",
        "        print(f\"✅ Selected {len(eeg_channels)} EEG channels\")\n",
        "    else:\n",
        "        raw.pick(picks)\n",
        "        print(f\"✅ Selected {len(picks)} EEG channels\")\n",
        "\n",
        "    # Set average reference\n",
        "    print(\"🔧 Setting average reference...\")\n",
        "    raw.set_eeg_reference('average', projection=True)\n",
        "    raw.apply_proj()\n",
        "\n",
        "    # Apply bandpass filter (0.1-75 Hz)\n",
        "    print(\"🔧 Applying bandpass filter: 0.1-75 Hz...\")\n",
        "    raw.filter(l_freq=0.1, h_freq=75, method='fir', verbose=False)\n",
        "\n",
        "    # Apply notch filter (50 Hz - change to 60 Hz if US data)\n",
        "    print(\"🔧 Applying notch filter: 50 Hz...\")\n",
        "    raw.notch_filter(freqs=50, method='fir', verbose=False)\n",
        "\n",
        "    # Resample to 200 Hz\n",
        "    if raw.info['sfreq'] != 200:\n",
        "        print(f\"⚡ Resampling from {raw.info['sfreq']} Hz to 200 Hz...\")\n",
        "        raw.resample(200, verbose=False)\n",
        "    else:\n",
        "        print(\"✅ Already at 200 Hz sampling rate\")\n",
        "\n",
        "    # Convert to μV (microvolts)\n",
        "    print(\"🔧 Converting to microvolts (μV)...\")\n",
        "    data = raw.get_data() * 1e6  # Convert from V to μV\n",
        "\n",
        "    # Save as HDF5\n",
        "    print(f\"💾 Saving preprocessed data to: {output_file}\")\n",
        "    with h5py.File(output_file, 'w') as f:\n",
        "        f.create_dataset('eeg_data', data=data, compression='gzip')\n",
        "        f.create_dataset('sfreq', data=200.0)\n",
        "        f.create_dataset('ch_names', data=[ch.encode('utf-8') for ch in raw.info['ch_names']])\n",
        "        f.attrs['unit'] = 'μV'\n",
        "        f.attrs['preprocessing'] = 'LaBraM_compatible'\n",
        "        f.attrs['original_sfreq'] = raw.info['sfreq']\n",
        "        f.attrs['n_channels'] = data.shape[0]\n",
        "        f.attrs['n_samples'] = data.shape[1]\n",
        "        f.attrs['duration_seconds'] = data.shape[1] / 200.0\n",
        "\n",
        "    print(f\"✅ Processing complete!\")\n",
        "    print(f\"📊 Final data shape: {data.shape}\")\n",
        "    print(f\"📊 Final sampling rate: 200 Hz\")\n",
        "    print(f\"📊 Final units: μV\")\n",
        "    print(f\"📊 Final duration: {data.shape[1]/200.0:.2f} seconds\")\n",
        "\n",
        "    return True\n"
      ],
      "metadata": {
        "id": "FW5HYZ5Ky4Ku"
      },
      "execution_count": 11,
      "outputs": []
    },
    {
      "cell_type": "code",
      "source": [
        "# Set the input and output filenames\n",
        "input_file = f\"/content/{bdf_filename}\"  # Your BDF file in session storage\n",
        "output_file = \"preprocessed_eeg_labram.h5\"\n",
        "\n",
        "# Run preprocessing\n",
        "success = preprocess_bdf_to_h5(input_file, output_file)\n",
        "\n",
        "if success:\n",
        "    print(\"\\n🎉 Preprocessing completed successfully!\")\n",
        "    print(f\"📁 Output file: {output_file}\")\n",
        "else:\n",
        "    print(\"\\n❌ Preprocessing failed!\")\n"
      ],
      "metadata": {
        "colab": {
          "base_uri": "https://localhost:8080/"
        },
        "id": "V-SreCp2zQLN",
        "outputId": "43201622-a9ce-48ed-e498-fce027f830cb"
      },
      "execution_count": 12,
      "outputs": [
        {
          "output_type": "stream",
          "name": "stdout",
          "text": [
            "🔄 Processing BDF file: /content/EEG_Cat_Study4_II_II_S10.bdf\n",
            "✅ Successfully loaded BDF file\n",
            "📊 Original data shape: (73, 395008)\n",
            "📊 Original sampling rate: 256.0 Hz\n",
            "📊 Original channels: 73\n",
            "📊 Recording duration: 1543.00 seconds\n",
            "\n",
            "🔧 Selecting EEG channels only...\n",
            "✅ Selected 72 EEG channels\n",
            "🔧 Setting average reference...\n",
            "EEG channel type selected for re-referencing\n",
            "Adding average EEG reference projection.\n",
            "1 projection items deactivated\n",
            "Average reference projection was added, but has not been applied yet. Use the apply_proj method to apply it.\n",
            "Created an SSP operator (subspace dimension = 1)\n",
            "1 projection items activated\n",
            "SSP projectors applied...\n",
            "🔧 Applying bandpass filter: 0.1-75 Hz...\n",
            "🔧 Applying notch filter: 50 Hz...\n",
            "⚡ Resampling from 256.0 Hz to 200 Hz...\n",
            "🔧 Converting to microvolts (μV)...\n",
            "💾 Saving preprocessed data to: preprocessed_eeg_labram.h5\n",
            "✅ Processing complete!\n",
            "📊 Final data shape: (72, 308600)\n",
            "📊 Final sampling rate: 200 Hz\n",
            "📊 Final units: μV\n",
            "📊 Final duration: 1543.00 seconds\n",
            "\n",
            "🎉 Preprocessing completed successfully!\n",
            "📁 Output file: preprocessed_eeg_labram.h5\n"
          ]
        }
      ]
    },
    {
      "cell_type": "code",
      "source": [
        "# Verify the preprocessed data\n",
        "with h5py.File(output_file, 'r') as f:\n",
        "    print(\"📊 Preprocessed Data Summary:\")\n",
        "    print(f\"   - EEG data shape: {f['eeg_data'].shape}\")\n",
        "    print(f\"   - Sampling rate: {f['sfreq'][()]} Hz\")\n",
        "    print(f\"   - Number of channels: {f.attrs['n_channels']}\")\n",
        "    print(f\"   - Duration: {f.attrs['duration_seconds']:.2f} seconds\")\n",
        "    print(f\"   - Units: {f.attrs['unit']}\")\n",
        "    print(f\"   - Preprocessing: {f.attrs['preprocessing']}\")\n",
        "    print(f\"   - Channel names: {[ch.decode('utf-8') for ch in f['ch_names'][:5]]}...\")  # First 5 channels\n",
        "\n",
        "# Download the processed file\n",
        "from google.colab import files\n",
        "files.download(output_file)\n",
        "print(f\"📥 Downloaded: {output_file}\")\n"
      ],
      "metadata": {
        "colab": {
          "base_uri": "https://localhost:8080/",
          "height": 173
        },
        "id": "hwWLXdXiza8J",
        "outputId": "7f552036-c82c-4df6-a1bd-387e18fdeb71"
      },
      "execution_count": 13,
      "outputs": [
        {
          "output_type": "stream",
          "name": "stdout",
          "text": [
            "📊 Preprocessed Data Summary:\n",
            "   - EEG data shape: (72, 308600)\n",
            "   - Sampling rate: 200.0 Hz\n",
            "   - Number of channels: 72\n",
            "   - Duration: 1543.00 seconds\n",
            "   - Units: μV\n",
            "   - Preprocessing: LaBraM_compatible\n",
            "   - Channel names: ['Fp1', 'AF7', 'AF3', 'F1', 'F3']...\n"
          ]
        },
        {
          "output_type": "display_data",
          "data": {
            "text/plain": [
              "<IPython.core.display.Javascript object>"
            ],
            "application/javascript": [
              "\n",
              "    async function download(id, filename, size) {\n",
              "      if (!google.colab.kernel.accessAllowed) {\n",
              "        return;\n",
              "      }\n",
              "      const div = document.createElement('div');\n",
              "      const label = document.createElement('label');\n",
              "      label.textContent = `Downloading \"${filename}\": `;\n",
              "      div.appendChild(label);\n",
              "      const progress = document.createElement('progress');\n",
              "      progress.max = size;\n",
              "      div.appendChild(progress);\n",
              "      document.body.appendChild(div);\n",
              "\n",
              "      const buffers = [];\n",
              "      let downloaded = 0;\n",
              "\n",
              "      const channel = await google.colab.kernel.comms.open(id);\n",
              "      // Send a message to notify the kernel that we're ready.\n",
              "      channel.send({})\n",
              "\n",
              "      for await (const message of channel.messages) {\n",
              "        // Send a message to notify the kernel that we're ready.\n",
              "        channel.send({})\n",
              "        if (message.buffers) {\n",
              "          for (const buffer of message.buffers) {\n",
              "            buffers.push(buffer);\n",
              "            downloaded += buffer.byteLength;\n",
              "            progress.value = downloaded;\n",
              "          }\n",
              "        }\n",
              "      }\n",
              "      const blob = new Blob(buffers, {type: 'application/binary'});\n",
              "      const a = document.createElement('a');\n",
              "      a.href = window.URL.createObjectURL(blob);\n",
              "      a.download = filename;\n",
              "      div.appendChild(a);\n",
              "      a.click();\n",
              "      div.remove();\n",
              "    }\n",
              "  "
            ]
          },
          "metadata": {}
        },
        {
          "output_type": "display_data",
          "data": {
            "text/plain": [
              "<IPython.core.display.Javascript object>"
            ],
            "application/javascript": [
              "download(\"download_b5ef661b-44f4-49c8-a4d5-36be53f93ec8\", \"preprocessed_eeg_labram.h5\", 171470600)"
            ]
          },
          "metadata": {}
        },
        {
          "output_type": "stream",
          "name": "stdout",
          "text": [
            "📥 Downloaded: preprocessed_eeg_labram.h5\n"
          ]
        }
      ]
    },
    {
      "cell_type": "code",
      "source": [
        "# Add this to your Google Colab notebook\n",
        "import numpy as np\n",
        "import h5py\n",
        "import matplotlib.pyplot as plt\n",
        "\n",
        "def segment_eeg_data(h5_file, window_size_seconds=8, overlap_ratio=0.5):\n",
        "    \"\"\"\n",
        "    Segment EEG data into overlapping windows for training\n",
        "\n",
        "    Args:\n",
        "        h5_file: Path to your preprocessed HDF5 file\n",
        "        window_size_seconds: Size of each window in seconds (default: 8s)\n",
        "        overlap_ratio: Overlap between windows (default: 0.5 = 50%)\n",
        "\n",
        "    Returns:\n",
        "        segmented_data: Array of shape (n_windows, n_channels, n_samples)\n",
        "    \"\"\"\n",
        "\n",
        "    with h5py.File(h5_file, 'r') as f:\n",
        "        eeg_data = f['eeg_data'][:]\n",
        "        sfreq = f['sfreq'][()]\n",
        "\n",
        "    n_channels, n_samples = eeg_data.shape\n",
        "    window_samples = int(window_size_seconds * sfreq)\n",
        "    step_samples = int(window_samples * (1 - overlap_ratio))\n",
        "\n",
        "    # Calculate number of windows\n",
        "    n_windows = (n_samples - window_samples) // step_samples + 1\n",
        "\n",
        "    # Create segmented data\n",
        "    segmented_data = np.zeros((n_windows, n_channels, window_samples))\n",
        "\n",
        "    for i in range(n_windows):\n",
        "        start_idx = i * step_samples\n",
        "        end_idx = start_idx + window_samples\n",
        "        segmented_data[i] = eeg_data[:, start_idx:end_idx]\n",
        "\n",
        "    print(f\"✅ Segmented into {n_windows} windows\")\n",
        "    print(f\"📊 Window size: {window_size_seconds}s ({window_samples} samples)\")\n",
        "    print(f\"📊 Overlap: {overlap_ratio*100}%\")\n",
        "    print(f\"📊 Final shape: {segmented_data.shape}\")\n",
        "\n",
        "    return segmented_data\n",
        "\n",
        "# Run segmentation\n",
        "segmented_data = segment_eeg_data('preprocessed_eeg_labram.h5')\n",
        "\n"
      ],
      "metadata": {
        "colab": {
          "base_uri": "https://localhost:8080/"
        },
        "id": "9Jdml_Oez7gB",
        "outputId": "90ab31a4-1481-4105-9094-528a2896dd54"
      },
      "execution_count": 14,
      "outputs": [
        {
          "output_type": "stream",
          "name": "stdout",
          "text": [
            "✅ Segmented into 384 windows\n",
            "📊 Window size: 8s (1600 samples)\n",
            "📊 Overlap: 50.0%\n",
            "📊 Final shape: (384, 72, 1600)\n"
          ]
        }
      ]
    },
    {
      "cell_type": "code",
      "source": [
        "def create_labram_patches(segmented_data, patch_size=200):\n",
        "    \"\"\"\n",
        "    Create patches compatible with LaBraM architecture\n",
        "\n",
        "    Args:\n",
        "        segmented_data: Segmented EEG data (n_windows, n_channels, n_samples)\n",
        "        patch_size: Size of each patch in samples (default: 200)\n",
        "\n",
        "    Returns:\n",
        "        patches: Patches ready for LaBraM training\n",
        "    \"\"\"\n",
        "\n",
        "    n_windows, n_channels, n_samples = segmented_data.shape\n",
        "    n_patches_per_window = n_samples // patch_size\n",
        "\n",
        "    # Only use complete patches\n",
        "    usable_samples = n_patches_per_window * patch_size\n",
        "\n",
        "    # Reshape to create patches\n",
        "    patches = segmented_data[:, :, :usable_samples].reshape(\n",
        "        n_windows, n_channels, n_patches_per_window, patch_size\n",
        "    )\n",
        "\n",
        "    print(f\"✅ Created patches for LaBraM\")\n",
        "    print(f\"📊 Patch size: {patch_size} samples\")\n",
        "    print(f\"📊 Patches per window: {n_patches_per_window}\")\n",
        "    print(f\"📊 Final patch shape: {patches.shape}\")\n",
        "\n",
        "    return patches\n",
        "\n",
        "# Create patches\n",
        "patches = create_labram_patches(segmented_data)\n"
      ],
      "metadata": {
        "colab": {
          "base_uri": "https://localhost:8080/"
        },
        "id": "-2fA-JpI1ET4",
        "outputId": "86af6dc5-c14c-44e4-cfe5-24c0080d4c59"
      },
      "execution_count": 15,
      "outputs": [
        {
          "output_type": "stream",
          "name": "stdout",
          "text": [
            "✅ Created patches for LaBraM\n",
            "📊 Patch size: 200 samples\n",
            "📊 Patches per window: 8\n",
            "📊 Final patch shape: (384, 72, 8, 200)\n"
          ]
        }
      ]
    },
    {
      "cell_type": "code",
      "source": [
        "def save_training_dataset(patches, output_file='labram_training_dataset.h5'):\n",
        "    \"\"\"\n",
        "    Save the training-ready dataset\n",
        "    \"\"\"\n",
        "\n",
        "    with h5py.File(output_file, 'w') as f:\n",
        "        # Save patches\n",
        "        f.create_dataset('patches', data=patches, compression='gzip')\n",
        "\n",
        "        # Save metadata\n",
        "        f.attrs['n_windows'] = patches.shape[0]\n",
        "        f.attrs['n_channels'] = patches.shape[1]\n",
        "        f.attrs['n_patches_per_window'] = patches.shape[2]\n",
        "        f.attrs['patch_size'] = patches.shape[3]\n",
        "        f.attrs['sfreq'] = 200.0\n",
        "        f.attrs['units'] = 'μV'\n",
        "        f.attrs['preprocessing'] = 'LaBraM_compatible'\n",
        "        f.attrs['ready_for_training'] = True\n",
        "\n",
        "        # Channel information (from your original data)\n",
        "        channel_names = ['Fp1', 'AF7', 'AF3', 'F1', 'F3', 'F5', 'F7', 'FT7', 'FC5', 'FC3', 'FC1', 'C1', 'C3', 'C5', 'T7', 'TP7', 'CP5', 'CP3', 'CP1', 'P1', 'P3', 'P5', 'P7', 'P9', 'PO7', 'PO3', 'O1', 'Iz', 'Oz', 'POz', 'Pz', 'CPz', 'Fpz', 'Fp2', 'AF8', 'AF4', 'AFz', 'Fz', 'F2', 'F4', 'F6', 'F8', 'FT8', 'FC6', 'FC4', 'FC2', 'FCz', 'Cz', 'C2', 'C4', 'C6', 'T8', 'TP8', 'CP6', 'CP4', 'CP2', 'P2', 'P4', 'P6', 'P8', 'P10', 'PO8', 'PO4', 'O2', 'EXG1', 'EXG2', 'EXG3', 'EXG4', 'EXG5', 'EXG6', 'EXG7', 'EXG8']\n",
        "        f.create_dataset('channel_names', data=[ch.encode('utf-8') for ch in channel_names[:patches.shape[1]]])\n",
        "\n",
        "    print(f\"✅ Training dataset saved: {output_file}\")\n",
        "    return output_file\n",
        "\n",
        "# Save training dataset\n",
        "training_file = save_training_dataset(patches)\n"
      ],
      "metadata": {
        "colab": {
          "base_uri": "https://localhost:8080/"
        },
        "id": "i3qtZExG1LFl",
        "outputId": "97faf411-572e-48ec-b82c-2b726db89e9e"
      },
      "execution_count": 16,
      "outputs": [
        {
          "output_type": "stream",
          "name": "stdout",
          "text": [
            "✅ Training dataset saved: labram_training_dataset.h5\n"
          ]
        }
      ]
    },
    {
      "cell_type": "code",
      "source": [
        "def validate_training_data(training_file):\n",
        "    \"\"\"\n",
        "    Validate the training dataset\n",
        "    \"\"\"\n",
        "\n",
        "    with h5py.File(training_file, 'r') as f:\n",
        "        patches = f['patches']\n",
        "\n",
        "        print(\"📊 Training Dataset Summary:\")\n",
        "        print(f\"   - Total windows: {f.attrs['n_windows']}\")\n",
        "        print(f\"   - Channels: {f.attrs['n_channels']}\")\n",
        "        print(f\"   - Patches per window: {f.attrs['n_patches_per_window']}\")\n",
        "        print(f\"   - Patch size: {f.attrs['patch_size']} samples\")\n",
        "        print(f\"   - Sampling rate: {f.attrs['sfreq']} Hz\")\n",
        "        print(f\"   - Units: {f.attrs['units']}\")\n",
        "        print(f\"   - Data shape: {patches.shape}\")\n",
        "        print(f\"   - Data type: {patches.dtype}\")\n",
        "        print(f\"   - Memory usage: {patches.nbytes / (1024**3):.2f} GB\")\n",
        "\n",
        "        # Check for any issues\n",
        "        sample_data = patches[:5]  # Sample first 5 windows\n",
        "        print(f\"\\n🔍 Data Quality Checks:\")\n",
        "        print(f\"   - Min value: {np.min(sample_data):.2f} μV\")\n",
        "        print(f\"   - Max value: {np.max(sample_data):.2f} μV\")\n",
        "        print(f\"   - Mean value: {np.mean(sample_data):.2f} μV\")\n",
        "        print(f\"   - Std value: {np.std(sample_data):.2f} μV\")\n",
        "        print(f\"   - Any NaN values: {np.isnan(sample_data).any()}\")\n",
        "        print(f\"   - Any infinite values: {np.isinf(sample_data).any()}\")\n",
        "\n",
        "# Validate the data\n",
        "validate_training_data(training_file)\n"
      ],
      "metadata": {
        "colab": {
          "base_uri": "https://localhost:8080/"
        },
        "id": "iKnwdqfI1WOp",
        "outputId": "cbee04c1-bf69-4add-f50d-44973a6b7efd"
      },
      "execution_count": 17,
      "outputs": [
        {
          "output_type": "stream",
          "name": "stdout",
          "text": [
            "📊 Training Dataset Summary:\n",
            "   - Total windows: 384\n",
            "   - Channels: 72\n",
            "   - Patches per window: 8\n",
            "   - Patch size: 200 samples\n",
            "   - Sampling rate: 200.0 Hz\n",
            "   - Units: μV\n",
            "   - Data shape: (384, 72, 8, 200)\n",
            "   - Data type: float64\n",
            "   - Memory usage: 0.33 GB\n",
            "\n",
            "🔍 Data Quality Checks:\n",
            "   - Min value: -333.63 μV\n",
            "   - Max value: 472.48 μV\n",
            "   - Mean value: -0.00 μV\n",
            "   - Std value: 22.54 μV\n",
            "   - Any NaN values: False\n",
            "   - Any infinite values: False\n"
          ]
        }
      ]
    },
    {
      "cell_type": "code",
      "source": [
        "# Download your training-ready dataset\n",
        "from google.colab import files\n",
        "files.download(training_file)\n",
        "print(f\"📥 Downloaded: {training_file}\")\n",
        "\n",
        "# Optional: Create a smaller sample for testing\n",
        "def create_sample_dataset(training_file, n_samples=100):\n",
        "    \"\"\"\n",
        "    Create a smaller sample dataset for testing\n",
        "    \"\"\"\n",
        "\n",
        "    with h5py.File(training_file, 'r') as f:\n",
        "        patches = f['patches'][:n_samples]\n",
        "\n",
        "    sample_file = 'labram_sample_dataset.h5'\n",
        "    with h5py.File(sample_file, 'w') as f:\n",
        "        f.create_dataset('patches', data=patches, compression='gzip')\n",
        "        # Copy all attributes\n",
        "        for key, value in f.attrs.items():\n",
        "            f.attrs[key] = value\n",
        "        f.attrs['n_windows'] = n_samples\n",
        "        f.attrs['is_sample'] = True\n",
        "\n",
        "    print(f\"✅ Sample dataset created: {sample_file}\")\n",
        "    return sample_file\n",
        "\n",
        "# Create sample dataset\n",
        "sample_file = create_sample_dataset(training_file)\n",
        "files.download(sample_file)\n"
      ],
      "metadata": {
        "colab": {
          "base_uri": "https://localhost:8080/",
          "height": 52
        },
        "id": "fyazgBOJ1eGH",
        "outputId": "da042d3d-9b0e-4a6f-e860-16431b680998"
      },
      "execution_count": 18,
      "outputs": [
        {
          "output_type": "display_data",
          "data": {
            "text/plain": [
              "<IPython.core.display.Javascript object>"
            ],
            "application/javascript": [
              "\n",
              "    async function download(id, filename, size) {\n",
              "      if (!google.colab.kernel.accessAllowed) {\n",
              "        return;\n",
              "      }\n",
              "      const div = document.createElement('div');\n",
              "      const label = document.createElement('label');\n",
              "      label.textContent = `Downloading \"${filename}\": `;\n",
              "      div.appendChild(label);\n",
              "      const progress = document.createElement('progress');\n",
              "      progress.max = size;\n",
              "      div.appendChild(progress);\n",
              "      document.body.appendChild(div);\n",
              "\n",
              "      const buffers = [];\n",
              "      let downloaded = 0;\n",
              "\n",
              "      const channel = await google.colab.kernel.comms.open(id);\n",
              "      // Send a message to notify the kernel that we're ready.\n",
              "      channel.send({})\n",
              "\n",
              "      for await (const message of channel.messages) {\n",
              "        // Send a message to notify the kernel that we're ready.\n",
              "        channel.send({})\n",
              "        if (message.buffers) {\n",
              "          for (const buffer of message.buffers) {\n",
              "            buffers.push(buffer);\n",
              "            downloaded += buffer.byteLength;\n",
              "            progress.value = downloaded;\n",
              "          }\n",
              "        }\n",
              "      }\n",
              "      const blob = new Blob(buffers, {type: 'application/binary'});\n",
              "      const a = document.createElement('a');\n",
              "      a.href = window.URL.createObjectURL(blob);\n",
              "      a.download = filename;\n",
              "      div.appendChild(a);\n",
              "      a.click();\n",
              "      div.remove();\n",
              "    }\n",
              "  "
            ]
          },
          "metadata": {}
        },
        {
          "output_type": "display_data",
          "data": {
            "text/plain": [
              "<IPython.core.display.Javascript object>"
            ],
            "application/javascript": [
              "download(\"download_6fa3fa14-981b-4379-b0cc-f2fc8547091f\", \"labram_training_dataset.h5\", 341871870)"
            ]
          },
          "metadata": {}
        },
        {
          "output_type": "stream",
          "name": "stdout",
          "text": [
            "📥 Downloaded: labram_training_dataset.h5\n",
            "✅ Sample dataset created: labram_sample_dataset.h5\n"
          ]
        },
        {
          "output_type": "display_data",
          "data": {
            "text/plain": [
              "<IPython.core.display.Javascript object>"
            ],
            "application/javascript": [
              "\n",
              "    async function download(id, filename, size) {\n",
              "      if (!google.colab.kernel.accessAllowed) {\n",
              "        return;\n",
              "      }\n",
              "      const div = document.createElement('div');\n",
              "      const label = document.createElement('label');\n",
              "      label.textContent = `Downloading \"${filename}\": `;\n",
              "      div.appendChild(label);\n",
              "      const progress = document.createElement('progress');\n",
              "      progress.max = size;\n",
              "      div.appendChild(progress);\n",
              "      document.body.appendChild(div);\n",
              "\n",
              "      const buffers = [];\n",
              "      let downloaded = 0;\n",
              "\n",
              "      const channel = await google.colab.kernel.comms.open(id);\n",
              "      // Send a message to notify the kernel that we're ready.\n",
              "      channel.send({})\n",
              "\n",
              "      for await (const message of channel.messages) {\n",
              "        // Send a message to notify the kernel that we're ready.\n",
              "        channel.send({})\n",
              "        if (message.buffers) {\n",
              "          for (const buffer of message.buffers) {\n",
              "            buffers.push(buffer);\n",
              "            downloaded += buffer.byteLength;\n",
              "            progress.value = downloaded;\n",
              "          }\n",
              "        }\n",
              "      }\n",
              "      const blob = new Blob(buffers, {type: 'application/binary'});\n",
              "      const a = document.createElement('a');\n",
              "      a.href = window.URL.createObjectURL(blob);\n",
              "      a.download = filename;\n",
              "      div.appendChild(a);\n",
              "      a.click();\n",
              "      div.remove();\n",
              "    }\n",
              "  "
            ]
          },
          "metadata": {}
        },
        {
          "output_type": "display_data",
          "data": {
            "text/plain": [
              "<IPython.core.display.Javascript object>"
            ],
            "application/javascript": [
              "download(\"download_e9a055ab-7600-4c35-8c17-dc7bc145a20b\", \"labram_sample_dataset.h5\", 89003718)"
            ]
          },
          "metadata": {}
        }
      ]
    },
    {
      "cell_type": "code",
      "source": [
        "import numpy as np\n",
        "import h5py\n",
        "import matplotlib.pyplot as plt\n",
        "import seaborn as sns\n",
        "from mpl_toolkits.mplot3d import Axes3D\n",
        "from scipy import signal\n",
        "import pandas as pd\n",
        "from matplotlib.patches import Rectangle\n",
        "import warnings\n",
        "warnings.filterwarnings('ignore')\n",
        "\n",
        "# Set plotting style\n",
        "plt.style.use('seaborn-v0_8')\n",
        "sns.set_palette(\"husl\")\n",
        "print(\"✅ All libraries loaded successfully!\")\n"
      ],
      "metadata": {
        "colab": {
          "base_uri": "https://localhost:8080/"
        },
        "id": "BjLYgXbA25WR",
        "outputId": "bc9252ce-9b23-426b-bc6f-dd5b03db56d6"
      },
      "execution_count": 19,
      "outputs": [
        {
          "output_type": "stream",
          "name": "stdout",
          "text": [
            "✅ All libraries loaded successfully!\n"
          ]
        }
      ]
    },
    {
      "cell_type": "code",
      "source": [
        "# Load your training dataset\n",
        "training_file = 'labram_training_dataset.h5'\n",
        "\n",
        "def load_eeg_data(filename):\n",
        "    \"\"\"Load EEG data from HDF5 file\"\"\"\n",
        "    with h5py.File(filename, 'r') as f:\n",
        "        patches = f['patches'][:]\n",
        "        sfreq = f.attrs['sfreq']\n",
        "        n_channels = f.attrs['n_channels']\n",
        "        n_windows = f.attrs['n_windows']\n",
        "        patch_size = f.attrs['patch_size']\n",
        "\n",
        "        # Load channel names if available\n",
        "        try:\n",
        "            channel_names = [ch.decode('utf-8') for ch in f['channel_names'][:]]\n",
        "        except:\n",
        "            channel_names = [f'Ch{i+1}' for i in range(n_channels)]\n",
        "\n",
        "    print(f\"📊 Data loaded successfully!\")\n",
        "    print(f\"   - Shape: {patches.shape}\")\n",
        "    print(f\"   - Sampling rate: {sfreq} Hz\")\n",
        "    print(f\"   - Channels: {n_channels}\")\n",
        "    print(f\"   - Windows: {n_windows}\")\n",
        "    print(f\"   - Patch size: {patch_size}\")\n",
        "\n",
        "    return patches, sfreq, channel_names\n",
        "\n",
        "# Load the data\n",
        "patches, sfreq, channel_names = load_eeg_data(training_file)\n"
      ],
      "metadata": {
        "colab": {
          "base_uri": "https://localhost:8080/"
        },
        "id": "ANDYRdV528cr",
        "outputId": "3f24e378-83f0-4495-b1cd-7825ca02e370"
      },
      "execution_count": 20,
      "outputs": [
        {
          "output_type": "stream",
          "name": "stdout",
          "text": [
            "📊 Data loaded successfully!\n",
            "   - Shape: (384, 72, 8, 200)\n",
            "   - Sampling rate: 200.0 Hz\n",
            "   - Channels: 72\n",
            "   - Windows: 384\n",
            "   - Patch size: 200\n"
          ]
        }
      ]
    },
    {
      "cell_type": "code",
      "source": [
        "def visualize_data_overview(patches, sfreq, channel_names):\n",
        "    \"\"\"Create overview plots of the EEG dataset\"\"\"\n",
        "\n",
        "    fig, axes = plt.subplots(2, 2, figsize=(15, 12))\n",
        "    fig.suptitle('EEG Dataset Overview', fontsize=16, fontweight='bold')\n",
        "\n",
        "    # 1. Data shape and structure\n",
        "    ax1 = axes[0, 0]\n",
        "    structure_data = {\n",
        "        'Windows': patches.shape[0],\n",
        "        'Channels': patches.shape[1],\n",
        "        'Patches/Window': patches.shape[2],\n",
        "        'Samples/Patch': patches.shape[3]\n",
        "    }\n",
        "    bars = ax1.bar(structure_data.keys(), structure_data.values(),\n",
        "                   color=['#1f77b4', '#ff7f0e', '#2ca02c', '#d62728'])\n",
        "    ax1.set_title('Dataset Structure', fontweight='bold')\n",
        "    ax1.set_ylabel('Count')\n",
        "\n",
        "    # Add value labels on bars\n",
        "    for bar, value in zip(bars, structure_data.values()):\n",
        "        ax1.text(bar.get_x() + bar.get_width()/2, bar.get_height() + 0.01*max(structure_data.values()),\n",
        "                f'{value}', ha='center', va='bottom', fontweight='bold')\n",
        "\n",
        "    # 2. Channel distribution\n",
        "    ax2 = axes[0, 1]\n",
        "    sample_data = patches[0, :, 0, :50]  # First window, all channels, first patch, first 50 samples\n",
        "    ax2.imshow(sample_data, aspect='auto', cmap='viridis')\n",
        "    ax2.set_title('Channel Activity Pattern\\n(First Window, First Patch)', fontweight='bold')\n",
        "    ax2.set_xlabel('Time Samples')\n",
        "    ax2.set_ylabel('Channels')\n",
        "\n",
        "    # 3. Amplitude distribution\n",
        "    ax3 = axes[1, 0]\n",
        "    sample_amplitudes = patches[:5].flatten()  # First 5 windows\n",
        "    ax3.hist(sample_amplitudes, bins=50, alpha=0.7, color='skyblue', edgecolor='black')\n",
        "    ax3.set_title('Amplitude Distribution\\n(First 5 Windows)', fontweight='bold')\n",
        "    ax3.set_xlabel('Amplitude (μV)')\n",
        "    ax3.set_ylabel('Frequency')\n",
        "    ax3.axvline(np.mean(sample_amplitudes), color='red', linestyle='--',\n",
        "                label=f'Mean: {np.mean(sample_amplitudes):.2f}μV')\n",
        "    ax3.legend()\n",
        "\n",
        "    # 4. Data quality metrics\n",
        "    ax4 = axes[1, 1]\n",
        "    quality_metrics = {\n",
        "        'Mean (μV)': np.mean(patches[:10]),\n",
        "        'Std (μV)': np.std(patches[:10]),\n",
        "        'Min (μV)': np.min(patches[:10]),\n",
        "        'Max (μV)': np.max(patches[:10])\n",
        "    }\n",
        "\n",
        "    bars = ax4.bar(range(len(quality_metrics)), list(quality_metrics.values()),\n",
        "                   color=['green', 'orange', 'blue', 'red'])\n",
        "    ax4.set_title('Data Quality Metrics\\n(First 10 Windows)', fontweight='bold')\n",
        "    ax4.set_xticks(range(len(quality_metrics)))\n",
        "    ax4.set_xticklabels(quality_metrics.keys(), rotation=45)\n",
        "    ax4.set_ylabel('Value')\n",
        "\n",
        "    # Add value labels\n",
        "    for bar, value in zip(bars, quality_metrics.values()):\n",
        "        ax4.text(bar.get_x() + bar.get_width()/2, bar.get_height() + 0.01*abs(value),\n",
        "                f'{value:.2f}', ha='center', va='bottom', fontweight='bold')\n",
        "\n",
        "    plt.tight_layout()\n",
        "    plt.show()\n",
        "\n",
        "# Create overview visualization\n",
        "visualize_data_overview(patches, sfreq, channel_names)\n"
      ],
      "metadata": {
        "colab": {
          "base_uri": "https://localhost:8080/",
          "height": 899
        },
        "id": "mF7HIxp73AcJ",
        "outputId": "baedb3de-850d-4fb1-bfc6-0794894a7e53"
      },
      "execution_count": 21,
      "outputs": [
        {
          "output_type": "display_data",
          "data": {
            "text/plain": [
              "<Figure size 1500x1200 with 4 Axes>"
            ],
            "image/png": "[encoded data removed]"
          },
          "metadata": {}
        }
      ]
    },
    {
      "cell_type": "code",
      "source": [
        "# === STEP 0: Install Dependencies ===\n",
        "!pip install torch torchvision torchaudio \\\n",
        "            tensorboardX \\\n",
        "            einops \\\n",
        "            h5py \\\n",
        "            numpy \\\n",
        "            tqdm\n",
        "\n",
        "import os\n",
        "import torch\n",
        "import h5py\n",
        "import numpy as np\n",
        "from torch import nn, optim\n",
        "from torch.utils.data import Dataset, DataLoader\n",
        "from tqdm import tqdm\n",
        "from einops import rearrange\n",
        "\n",
        "# === STEP 1: Dataset & Tokenizer Stub ===\n",
        "class H5PretrainDataset(Dataset):\n",
        "    \"\"\"\n",
        "    Wraps the HDF5 file of patches for masked‐patch prediction.\n",
        "    \"\"\"\n",
        "    def __init__(self, h5_path, mask_ratio=0.5):\n",
        "        self.f = h5py.File(h5_path, 'r')\n",
        "        # shape: (n_windows, n_channels, n_patches, patch_size)\n",
        "        self.data = self.f['patches']\n",
        "        self.n_windows, self.n_ch, self.n_patches, self.ps = self.data.shape\n",
        "        self.mask_ratio = mask_ratio\n",
        "\n",
        "    def __len__(self):\n",
        "        return self.n_windows\n",
        "\n",
        "    def __getitem__(self, idx):\n",
        "        x = self.data[idx]                      # (C, P, L)\n",
        "        # Randomly mask some patches\n",
        "        mask = np.random.rand(self.n_patches) < self.mask_ratio\n",
        "        x_input = x.copy()\n",
        "        # Apply mask to the numpy array\n",
        "        x_input[:, mask, :] = 0\n",
        "        # Targets: the original patches\n",
        "        return torch.tensor(x_input, dtype=torch.float32), \\\n",
        "               torch.tensor(x, dtype=torch.float32), \\\n",
        "               torch.tensor(mask, dtype=torch.bool)\n",
        "\n",
        "# === STEP 2: LaBraM Model Skeleton ===\n",
        "class SimpleLabraM(nn.Module):\n",
        "    \"\"\"\n",
        "    Simplified LaBraM: a patch encoder + masked‐patch predictor.\n",
        "    \"\"\"\n",
        "    def __init__(self, in_ch, patch_len, embed_dim=256, depth=4, num_heads=8):\n",
        "        super().__init__()\n",
        "        # Patch embedding\n",
        "        self.patch_embed_conv = nn.Conv2d(in_ch, embed_dim, kernel_size=(1,1))\n",
        "        self.patch_embed_norm = nn.LayerNorm([embed_dim, patch_len])\n",
        "\n",
        "        # Transformer encoder\n",
        "        encoder_layer = nn.TransformerEncoderLayer(\n",
        "            d_model=embed_dim, nhead=num_heads, dim_feedforward=embed_dim*4)\n",
        "        self.encoder = nn.TransformerEncoder(encoder_layer, num_layers=depth)\n",
        "        # Predictor head\n",
        "        self.decoder = nn.Sequential(\n",
        "            nn.Conv2d(embed_dim, in_ch, kernel_size=(1,1))\n",
        "        )\n",
        "\n",
        "    def forward(self, x_in, mask):\n",
        "        # x_in: (B, C, P, L)\n",
        "        B, C, P, L = x_in.shape\n",
        "        # Merge patch & time dims for transformer: (B, P, C*L)\n",
        "        x = rearrange(x_in, 'b c p l -> (b p) c l')\n",
        "        x = self.patch_embed_conv(x.unsqueeze(-1))       # (B*P, E, L, 1)\n",
        "        x = x.squeeze(-1)                                # (B*P, E, L)\n",
        "        x = self.patch_embed_norm(x)                     # (B*P, E, L)\n",
        "        x = x.permute(2,0,1)                             # (L, B*P, E)\n",
        "        x_enc = self.encoder(x)                          # (L, B*P, E)\n",
        "        x_enc = x_enc.permute(1,2,0).unsqueeze(-1)       # (B*P, E, L,1)\n",
        "        x_rec = self.decoder(x_enc)                      # (B*P, C, L,1)\n",
        "        x_rec = x_rec.squeeze(-1)                    # (B*P, C, L)\n",
        "        # Reshape back & pick masked patches only\n",
        "        x_rec = rearrange(x_rec, '(b p) c l -> b c p l', b=B, p=P)\n",
        "        # Compute loss only on masked patches\n",
        "        mask_expanded = mask.unsqueeze(1).unsqueeze(-1).expand_as(x_rec)\n",
        "        return x_rec\n",
        "\n",
        "\n",
        "# === STEP 3: Training Loop ===\n",
        "def pretrain_labram(h5_path, epochs=10, batch_size=16, lr=5e-4, mask_ratio=0.5):\n",
        "    ds = H5PretrainDataset(h5_path, mask_ratio=mask_ratio)\n",
        "    dl = DataLoader(ds, batch_size=batch_size, shuffle=True, num_workers=2)\n",
        "\n",
        "    model = SimpleLabraM(in_ch=ds.n_ch, patch_len=ds.ps).cuda()\n",
        "    optimizer = optim.AdamW(model.parameters(), lr=lr, weight_decay=1e-4)\n",
        "    loss_fn = nn.MSELoss()\n",
        "\n",
        "    for ep in range(1, epochs+1):\n",
        "        model.train()\n",
        "        ep_loss = 0.0\n",
        "        for x_in, x_orig, mask in tqdm(dl, desc=f\"Epoch {ep}/{epochs}\"):\n",
        "            x_in, x_orig, mask = x_in.cuda(), x_orig.cuda(), mask.cuda()\n",
        "            optimizer.zero_grad()\n",
        "            x_pred = model(x_in, mask)                       # (B,C,P,L)\n",
        "            # Compute loss only on masked patches\n",
        "            mask_expanded = mask.unsqueeze(1).unsqueeze(-1).expand_as(x_pred)\n",
        "            loss = loss_fn(x_pred[mask_expanded], x_orig[mask_expanded])\n",
        "            loss.backward()\n",
        "            optimizer.step()\n",
        "            ep_loss += loss.item()\n",
        "        print(f\"Ep {ep} Loss: {ep_loss/len(dl):.4f}\")\n",
        "    return model\n",
        "\n",
        "# === STEP 4: Run Pre-training ===\n",
        "trained_model = pretrain_labram(\n",
        "    h5_path='labram_training_dataset.h5',\n",
        "    epochs=50,\n",
        "    batch_size=32,\n",
        "    lr=5e-4,\n",
        "    mask_ratio=0.5\n",
        ")\n",
        "\n",
        "# === STEP 5: Save Checkpoint ===\n",
        "torch.save(trained_model.state_dict(), 'labram_pretrained.pth')\n",
        "print(\"✅ Pre-training complete, saved to labram_pretrained.pth\")"
      ],
      "metadata": {
        "colab": {
          "base_uri": "https://localhost:8080/"
        },
        "id": "mxvzXD1J5ocq",
        "outputId": "cf2fdb88-069b-4349-8443-37d7c3d3ed70"
      },
      "execution_count": 22,
      "outputs": [
        {
          "output_type": "stream",
          "name": "stdout",
          "text": [
            "Requirement already satisfied: torch in /usr/local/lib/python3.11/dist-packages (2.6.0+cu124)\n",
            "Requirement already satisfied: torchvision in /usr/local/lib/python3.11/dist-packages (0.21.0+cu124)\n",
            "Requirement already satisfied: torchaudio in /usr/local/lib/python3.11/dist-packages (2.6.0+cu124)\n",
            "Collecting tensorboardX\n",
            "  Downloading tensorboardx-2.6.4-py3-none-any.whl.metadata (6.2 kB)\n",
            "Requirement already satisfied: einops in /usr/local/lib/python3.11/dist-packages (0.8.1)\n",
            "Requirement already satisfied: h5py in /usr/local/lib/python3.11/dist-packages (3.14.0)\n",
            "Requirement already satisfied: numpy in /usr/local/lib/python3.11/dist-packages (2.0.2)\n",
            "Requirement already satisfied: tqdm in /usr/local/lib/python3.11/dist-packages (4.67.1)\n",
            "Requirement already satisfied: filelock in /usr/local/lib/python3.11/dist-packages (from torch) (3.18.0)\n",
            "Requirement already satisfied: typing-extensions>=4.10.0 in /usr/local/lib/python3.11/dist-packages (from torch) (4.14.0)\n",
            "Requirement already satisfied: networkx in /usr/local/lib/python3.11/dist-packages (from torch) (3.5)\n",
            "Requirement already satisfied: jinja2 in /usr/local/lib/python3.11/dist-packages (from torch) (3.1.6)\n",
            "Requirement already satisfied: fsspec in /usr/local/lib/python3.11/dist-packages (from torch) (2025.3.2)\n",
            "Collecting nvidia-cuda-nvrtc-cu12==12.4.127 (from torch)\n",
            "  Downloading nvidia_cuda_nvrtc_cu12-12.4.127-py3-none-manylinux2014_x86_64.whl.metadata (1.5 kB)\n",
            "Collecting nvidia-cuda-runtime-cu12==12.4.127 (from torch)\n",
            "  Downloading nvidia_cuda_runtime_cu12-12.4.127-py3-none-manylinux2014_x86_64.whl.metadata (1.5 kB)\n",
            "Collecting nvidia-cuda-cupti-cu12==12.4.127 (from torch)\n",
            "  Downloading nvidia_cuda_cupti_cu12-12.4.127-py3-none-manylinux2014_x86_64.whl.metadata (1.6 kB)\n",
            "Collecting nvidia-cudnn-cu12==9.1.0.70 (from torch)\n",
            "  Downloading nvidia_cudnn_cu12-9.1.0.70-py3-none-manylinux2014_x86_64.whl.metadata (1.6 kB)\n",
            "Collecting nvidia-cublas-cu12==12.4.5.8 (from torch)\n",
            "  Downloading nvidia_cublas_cu12-12.4.5.8-py3-none-manylinux2014_x86_64.whl.metadata (1.5 kB)\n",
            "Collecting nvidia-cufft-cu12==11.2.1.3 (from torch)\n",
            "  Downloading nvidia_cufft_cu12-11.2.1.3-py3-none-manylinux2014_x86_64.whl.metadata (1.5 kB)\n",
            "Collecting nvidia-curand-cu12==10.3.5.147 (from torch)\n",
            "  Downloading nvidia_curand_cu12-10.3.5.147-py3-none-manylinux2014_x86_64.whl.metadata (1.5 kB)\n",
            "Collecting nvidia-cusolver-cu12==11.6.1.9 (from torch)\n",
            "  Downloading nvidia_cusolver_cu12-11.6.1.9-py3-none-manylinux2014_x86_64.whl.metadata (1.6 kB)\n",
            "Collecting nvidia-cusparse-cu12==12.3.1.170 (from torch)\n",
            "  Downloading nvidia_cusparse_cu12-12.3.1.170-py3-none-manylinux2014_x86_64.whl.metadata (1.6 kB)\n",
            "Requirement already satisfied: nvidia-cusparselt-cu12==0.6.2 in /usr/local/lib/python3.11/dist-packages (from torch) (0.6.2)\n",
            "Requirement already satisfied: nvidia-nccl-cu12==2.21.5 in /usr/local/lib/python3.11/dist-packages (from torch) (2.21.5)\n",
            "Requirement already satisfied: nvidia-nvtx-cu12==12.4.127 in /usr/local/lib/python3.11/dist-packages (from torch) (12.4.127)\n",
            "Collecting nvidia-nvjitlink-cu12==12.4.127 (from torch)\n",
            "  Downloading nvidia_nvjitlink_cu12-12.4.127-py3-none-manylinux2014_x86_64.whl.metadata (1.5 kB)\n",
            "Requirement already satisfied: triton==3.2.0 in /usr/local/lib/python3.11/dist-packages (from torch) (3.2.0)\n",
            "Requirement already satisfied: sympy==1.13.1 in /usr/local/lib/python3.11/dist-packages (from torch) (1.13.1)\n",
            "Requirement already satisfied: mpmath<1.4,>=1.1.0 in /usr/local/lib/python3.11/dist-packages (from sympy==1.13.1->torch) (1.3.0)\n",
            "Requirement already satisfied: pillow!=8.3.*,>=5.3.0 in /usr/local/lib/python3.11/dist-packages (from torchvision) (11.2.1)\n",
            "Requirement already satisfied: packaging in /usr/local/lib/python3.11/dist-packages (from tensorboardX) (24.2)\n",
            "Requirement already satisfied: protobuf>=3.20 in /usr/local/lib/python3.11/dist-packages (from tensorboardX) (5.29.5)\n",
            "Requirement already satisfied: MarkupSafe>=2.0 in /usr/local/lib/python3.11/dist-packages (from jinja2->torch) (3.0.2)\n",
            "Downloading nvidia_cublas_cu12-12.4.5.8-py3-none-manylinux2014_x86_64.whl (363.4 MB)\n",
            "\u001b[2K   \u001b[90m━━━━━━━━━━━━━━━━━━━━━━━━━━━━━━━━━━━━━━━━\u001b[0m \u001b[32m363.4/363.4 MB\u001b[0m \u001b[31m3.9 MB/s\u001b[0m eta \u001b[36m0:00:00\u001b[0m\n",
            "\u001b[?25hDownloading nvidia_cuda_cupti_cu12-12.4.127-py3-none-manylinux2014_x86_64.whl (13.8 MB)\n",
            "\u001b[2K   \u001b[90m━━━━━━━━━━━━━━━━━━━━━━━━━━━━━━━━━━━━━━━━\u001b[0m \u001b[32m13.8/13.8 MB\u001b[0m \u001b[31m67.7 MB/s\u001b[0m eta \u001b[36m0:00:00\u001b[0m\n",
            "\u001b[?25hDownloading nvidia_cuda_nvrtc_cu12-12.4.127-py3-none-manylinux2014_x86_64.whl (24.6 MB)\n",
            "\u001b[2K   \u001b[90m━━━━━━━━━━━━━━━━━━━━━━━━━━━━━━━━━━━━━━━━\u001b[0m \u001b[32m24.6/24.6 MB\u001b[0m \u001b[31m37.1 MB/s\u001b[0m eta \u001b[36m0:00:00\u001b[0m\n",
            "\u001b[?25hDownloading nvidia_cuda_runtime_cu12-12.4.127-py3-none-manylinux2014_x86_64.whl (883 kB)\n",
            "\u001b[2K   \u001b[90m━━━━━━━━━━━━━━━━━━━━━━━━━━━━━━━━━━━━━━━━\u001b[0m \u001b[32m883.7/883.7 kB\u001b[0m \u001b[31m46.4 MB/s\u001b[0m eta \u001b[36m0:00:00\u001b[0m\n",
            "\u001b[?25hDownloading nvidia_cudnn_cu12-9.1.0.70-py3-none-manylinux2014_x86_64.whl (664.8 MB)\n",
            "\u001b[2K   \u001b[90m━━━━━━━━━━━━━━━━━━━━━━━━━━━━━━━━━━━━━━━━\u001b[0m \u001b[32m664.8/664.8 MB\u001b[0m \u001b[31m1.3 MB/s\u001b[0m eta \u001b[36m0:00:00\u001b[0m\n",
            "\u001b[?25hDownloading nvidia_cufft_cu12-11.2.1.3-py3-none-manylinux2014_x86_64.whl (211.5 MB)\n",
            "\u001b[2K   \u001b[90m━━━━━━━━━━━━━━━━━━━━━━━━━━━━━━━━━━━━━━━━\u001b[0m \u001b[32m211.5/211.5 MB\u001b[0m \u001b[31m5.5 MB/s\u001b[0m eta \u001b[36m0:00:00\u001b[0m\n",
            "\u001b[?25hDownloading nvidia_curand_cu12-10.3.5.147-py3-none-manylinux2014_x86_64.whl (56.3 MB)\n",
            "\u001b[2K   \u001b[90m━━━━━━━━━━━━━━━━━━━━━━━━━━━━━━━━━━━━━━━━\u001b[0m \u001b[32m56.3/56.3 MB\u001b[0m \u001b[31m13.3 MB/s\u001b[0m eta \u001b[36m0:00:00\u001b[0m\n",
            "\u001b[?25hDownloading nvidia_cusolver_cu12-11.6.1.9-py3-none-manylinux2014_x86_64.whl (127.9 MB)\n",
            "\u001b[2K   \u001b[90m━━━━━━━━━━━━━━━━━━━━━━━━━━━━━━━━━━━━━━━━\u001b[0m \u001b[32m127.9/127.9 MB\u001b[0m \u001b[31m7.7 MB/s\u001b[0m eta \u001b[36m0:00:00\u001b[0m\n",
            "\u001b[?25hDownloading nvidia_cusparse_cu12-12.3.1.170-py3-none-manylinux2014_x86_64.whl (207.5 MB)\n",
            "\u001b[2K   \u001b[90m━━━━━━━━━━━━━━━━━━━━━━━━━━━━━━━━━━━━━━━━\u001b[0m \u001b[32m207.5/207.5 MB\u001b[0m \u001b[31m6.7 MB/s\u001b[0m eta \u001b[36m0:00:00\u001b[0m\n",
            "\u001b[?25hDownloading nvidia_nvjitlink_cu12-12.4.127-py3-none-manylinux2014_x86_64.whl (21.1 MB)\n",
            "\u001b[2K   \u001b[90m━━━━━━━━━━━━━━━━━━━━━━━━━━━━━━━━━━━━━━━━\u001b[0m \u001b[32m21.1/21.1 MB\u001b[0m \u001b[31m115.6 MB/s\u001b[0m eta \u001b[36m0:00:00\u001b[0m\n",
            "\u001b[?25hDownloading tensorboardx-2.6.4-py3-none-any.whl (87 kB)\n",
            "\u001b[2K   \u001b[90m━━━━━━━━━━━━━━━━━━━━━━━━━━━━━━━━━━━━━━━━\u001b[0m \u001b[32m87.2/87.2 kB\u001b[0m \u001b[31m8.2 MB/s\u001b[0m eta \u001b[36m0:00:00\u001b[0m\n",
            "\u001b[?25hInstalling collected packages: tensorboardX, nvidia-nvjitlink-cu12, nvidia-curand-cu12, nvidia-cufft-cu12, nvidia-cuda-runtime-cu12, nvidia-cuda-nvrtc-cu12, nvidia-cuda-cupti-cu12, nvidia-cublas-cu12, nvidia-cusparse-cu12, nvidia-cudnn-cu12, nvidia-cusolver-cu12\n",
            "  Attempting uninstall: nvidia-nvjitlink-cu12\n",
            "    Found existing installation: nvidia-nvjitlink-cu12 12.5.82\n",
            "    Uninstalling nvidia-nvjitlink-cu12-12.5.82:\n",
            "      Successfully uninstalled nvidia-nvjitlink-cu12-12.5.82\n",
            "  Attempting uninstall: nvidia-curand-cu12\n",
            "    Found existing installation: nvidia-curand-cu12 10.3.6.82\n",
            "    Uninstalling nvidia-curand-cu12-10.3.6.82:\n",
            "      Successfully uninstalled nvidia-curand-cu12-10.3.6.82\n",
            "  Attempting uninstall: nvidia-cufft-cu12\n",
            "    Found existing installation: nvidia-cufft-cu12 11.2.3.61\n",
            "    Uninstalling nvidia-cufft-cu12-11.2.3.61:\n",
            "      Successfully uninstalled nvidia-cufft-cu12-11.2.3.61\n",
            "  Attempting uninstall: nvidia-cuda-runtime-cu12\n",
            "    Found existing installation: nvidia-cuda-runtime-cu12 12.5.82\n",
            "    Uninstalling nvidia-cuda-runtime-cu12-12.5.82:\n",
            "      Successfully uninstalled nvidia-cuda-runtime-cu12-12.5.82\n",
            "  Attempting uninstall: nvidia-cuda-nvrtc-cu12\n",
            "    Found existing installation: nvidia-cuda-nvrtc-cu12 12.5.82\n",
            "    Uninstalling nvidia-cuda-nvrtc-cu12-12.5.82:\n",
            "      Successfully uninstalled nvidia-cuda-nvrtc-cu12-12.5.82\n",
            "  Attempting uninstall: nvidia-cuda-cupti-cu12\n",
            "    Found existing installation: nvidia-cuda-cupti-cu12 12.5.82\n",
            "    Uninstalling nvidia-cuda-cupti-cu12-12.5.82:\n",
            "      Successfully uninstalled nvidia-cuda-cupti-cu12-12.5.82\n",
            "  Attempting uninstall: nvidia-cublas-cu12\n",
            "    Found existing installation: nvidia-cublas-cu12 12.5.3.2\n",
            "    Uninstalling nvidia-cublas-cu12-12.5.3.2:\n",
            "      Successfully uninstalled nvidia-cublas-cu12-12.5.3.2\n",
            "  Attempting uninstall: nvidia-cusparse-cu12\n",
            "    Found existing installation: nvidia-cusparse-cu12 12.5.1.3\n",
            "    Uninstalling nvidia-cusparse-cu12-12.5.1.3:\n",
            "      Successfully uninstalled nvidia-cusparse-cu12-12.5.1.3\n",
            "  Attempting uninstall: nvidia-cudnn-cu12\n",
            "    Found existing installation: nvidia-cudnn-cu12 9.3.0.75\n",
            "    Uninstalling nvidia-cudnn-cu12-9.3.0.75:\n",
            "      Successfully uninstalled nvidia-cudnn-cu12-9.3.0.75\n",
            "  Attempting uninstall: nvidia-cusolver-cu12\n",
            "    Found existing installation: nvidia-cusolver-cu12 11.6.3.83\n",
            "    Uninstalling nvidia-cusolver-cu12-11.6.3.83:\n",
            "      Successfully uninstalled nvidia-cusolver-cu12-11.6.3.83\n",
            "Successfully installed nvidia-cublas-cu12-12.4.5.8 nvidia-cuda-cupti-cu12-12.4.127 nvidia-cuda-nvrtc-cu12-12.4.127 nvidia-cuda-runtime-cu12-12.4.127 nvidia-cudnn-cu12-9.1.0.70 nvidia-cufft-cu12-11.2.1.3 nvidia-curand-cu12-10.3.5.147 nvidia-cusolver-cu12-11.6.1.9 nvidia-cusparse-cu12-12.3.1.170 nvidia-nvjitlink-cu12-12.4.127 tensorboardX-2.6.4\n"
          ]
        },
        {
          "output_type": "stream",
          "name": "stderr",
          "text": [
            "Epoch 1/50: 100%|██████████| 12/12 [01:07<00:00,  5.61s/it]\n"
          ]
        },
        {
          "output_type": "stream",
          "name": "stdout",
          "text": [
            "Ep 1 Loss: 648.5176\n"
          ]
        },
        {
          "output_type": "stream",
          "name": "stderr",
          "text": [
            "Epoch 2/50: 100%|██████████| 12/12 [01:07<00:00,  5.60s/it]\n"
          ]
        },
        {
          "output_type": "stream",
          "name": "stdout",
          "text": [
            "Ep 2 Loss: 654.7159\n"
          ]
        },
        {
          "output_type": "stream",
          "name": "stderr",
          "text": [
            "Epoch 3/50: 100%|██████████| 12/12 [01:08<00:00,  5.67s/it]\n"
          ]
        },
        {
          "output_type": "stream",
          "name": "stdout",
          "text": [
            "Ep 3 Loss: 643.1973\n"
          ]
        },
        {
          "output_type": "stream",
          "name": "stderr",
          "text": [
            "Epoch 4/50: 100%|██████████| 12/12 [01:08<00:00,  5.67s/it]\n"
          ]
        },
        {
          "output_type": "stream",
          "name": "stdout",
          "text": [
            "Ep 4 Loss: 695.8732\n"
          ]
        },
        {
          "output_type": "stream",
          "name": "stderr",
          "text": [
            "Epoch 5/50: 100%|██████████| 12/12 [01:07<00:00,  5.61s/it]\n"
          ]
        },
        {
          "output_type": "stream",
          "name": "stdout",
          "text": [
            "Ep 5 Loss: 642.9480\n"
          ]
        },
        {
          "output_type": "stream",
          "name": "stderr",
          "text": [
            "Epoch 6/50: 100%|██████████| 12/12 [01:07<00:00,  5.63s/it]\n"
          ]
        },
        {
          "output_type": "stream",
          "name": "stdout",
          "text": [
            "Ep 6 Loss: 680.6545\n"
          ]
        },
        {
          "output_type": "stream",
          "name": "stderr",
          "text": [
            "Epoch 7/50: 100%|██████████| 12/12 [01:08<00:00,  5.69s/it]\n"
          ]
        },
        {
          "output_type": "stream",
          "name": "stdout",
          "text": [
            "Ep 7 Loss: 653.1265\n"
          ]
        },
        {
          "output_type": "stream",
          "name": "stderr",
          "text": [
            "Epoch 8/50: 100%|██████████| 12/12 [01:06<00:00,  5.58s/it]\n"
          ]
        },
        {
          "output_type": "stream",
          "name": "stdout",
          "text": [
            "Ep 8 Loss: 624.3892\n"
          ]
        },
        {
          "output_type": "stream",
          "name": "stderr",
          "text": [
            "Epoch 9/50: 100%|██████████| 12/12 [01:07<00:00,  5.59s/it]\n"
          ]
        },
        {
          "output_type": "stream",
          "name": "stdout",
          "text": [
            "Ep 9 Loss: 650.2309\n"
          ]
        },
        {
          "output_type": "stream",
          "name": "stderr",
          "text": [
            "Epoch 10/50: 100%|██████████| 12/12 [01:07<00:00,  5.61s/it]\n"
          ]
        },
        {
          "output_type": "stream",
          "name": "stdout",
          "text": [
            "Ep 10 Loss: 662.8391\n"
          ]
        },
        {
          "output_type": "stream",
          "name": "stderr",
          "text": [
            "Epoch 11/50: 100%|██████████| 12/12 [01:06<00:00,  5.55s/it]\n"
          ]
        },
        {
          "output_type": "stream",
          "name": "stdout",
          "text": [
            "Ep 11 Loss: 630.8441\n"
          ]
        },
        {
          "output_type": "stream",
          "name": "stderr",
          "text": [
            "Epoch 12/50: 100%|██████████| 12/12 [01:07<00:00,  5.59s/it]\n"
          ]
        },
        {
          "output_type": "stream",
          "name": "stdout",
          "text": [
            "Ep 12 Loss: 626.5139\n"
          ]
        },
        {
          "output_type": "stream",
          "name": "stderr",
          "text": [
            "Epoch 13/50: 100%|██████████| 12/12 [01:07<00:00,  5.59s/it]\n"
          ]
        },
        {
          "output_type": "stream",
          "name": "stdout",
          "text": [
            "Ep 13 Loss: 646.6939\n"
          ]
        },
        {
          "output_type": "stream",
          "name": "stderr",
          "text": [
            "Epoch 14/50: 100%|██████████| 12/12 [01:09<00:00,  5.75s/it]\n"
          ]
        },
        {
          "output_type": "stream",
          "name": "stdout",
          "text": [
            "Ep 14 Loss: 670.0421\n"
          ]
        },
        {
          "output_type": "stream",
          "name": "stderr",
          "text": [
            "Epoch 15/50: 100%|██████████| 12/12 [01:06<00:00,  5.57s/it]\n"
          ]
        },
        {
          "output_type": "stream",
          "name": "stdout",
          "text": [
            "Ep 15 Loss: 656.5529\n"
          ]
        },
        {
          "output_type": "stream",
          "name": "stderr",
          "text": [
            "Epoch 16/50: 100%|██████████| 12/12 [01:07<00:00,  5.60s/it]\n"
          ]
        },
        {
          "output_type": "stream",
          "name": "stdout",
          "text": [
            "Ep 16 Loss: 649.8373\n"
          ]
        },
        {
          "output_type": "stream",
          "name": "stderr",
          "text": [
            "Epoch 17/50: 100%|██████████| 12/12 [01:08<00:00,  5.68s/it]\n"
          ]
        },
        {
          "output_type": "stream",
          "name": "stdout",
          "text": [
            "Ep 17 Loss: 635.0158\n"
          ]
        },
        {
          "output_type": "stream",
          "name": "stderr",
          "text": [
            "Epoch 18/50: 100%|██████████| 12/12 [01:07<00:00,  5.62s/it]\n"
          ]
        },
        {
          "output_type": "stream",
          "name": "stdout",
          "text": [
            "Ep 18 Loss: 652.8799\n"
          ]
        },
        {
          "output_type": "stream",
          "name": "stderr",
          "text": [
            "Epoch 19/50: 100%|██████████| 12/12 [01:07<00:00,  5.62s/it]\n"
          ]
        },
        {
          "output_type": "stream",
          "name": "stdout",
          "text": [
            "Ep 19 Loss: 644.5790\n"
          ]
        },
        {
          "output_type": "stream",
          "name": "stderr",
          "text": [
            "Epoch 20/50: 100%|██████████| 12/12 [01:06<00:00,  5.55s/it]\n"
          ]
        },
        {
          "output_type": "stream",
          "name": "stdout",
          "text": [
            "Ep 20 Loss: 635.8420\n"
          ]
        },
        {
          "output_type": "stream",
          "name": "stderr",
          "text": [
            "Epoch 21/50: 100%|██████████| 12/12 [01:07<00:00,  5.66s/it]\n"
          ]
        },
        {
          "output_type": "stream",
          "name": "stdout",
          "text": [
            "Ep 21 Loss: 660.6769\n"
          ]
        },
        {
          "output_type": "stream",
          "name": "stderr",
          "text": [
            "Epoch 22/50: 100%|██████████| 12/12 [01:06<00:00,  5.56s/it]\n"
          ]
        },
        {
          "output_type": "stream",
          "name": "stdout",
          "text": [
            "Ep 22 Loss: 628.2534\n"
          ]
        },
        {
          "output_type": "stream",
          "name": "stderr",
          "text": [
            "Epoch 23/50: 100%|██████████| 12/12 [01:08<00:00,  5.71s/it]\n"
          ]
        },
        {
          "output_type": "stream",
          "name": "stdout",
          "text": [
            "Ep 23 Loss: 656.7434\n"
          ]
        },
        {
          "output_type": "stream",
          "name": "stderr",
          "text": [
            "Epoch 24/50: 100%|██████████| 12/12 [01:08<00:00,  5.68s/it]\n"
          ]
        },
        {
          "output_type": "stream",
          "name": "stdout",
          "text": [
            "Ep 24 Loss: 683.1819\n"
          ]
        },
        {
          "output_type": "stream",
          "name": "stderr",
          "text": [
            "Epoch 25/50: 100%|██████████| 12/12 [01:08<00:00,  5.68s/it]\n"
          ]
        },
        {
          "output_type": "stream",
          "name": "stdout",
          "text": [
            "Ep 25 Loss: 653.5795\n"
          ]
        },
        {
          "output_type": "stream",
          "name": "stderr",
          "text": [
            "Epoch 26/50: 100%|██████████| 12/12 [01:07<00:00,  5.64s/it]\n"
          ]
        },
        {
          "output_type": "stream",
          "name": "stdout",
          "text": [
            "Ep 26 Loss: 640.6108\n"
          ]
        },
        {
          "output_type": "stream",
          "name": "stderr",
          "text": [
            "Epoch 27/50: 100%|██████████| 12/12 [01:07<00:00,  5.63s/it]\n"
          ]
        },
        {
          "output_type": "stream",
          "name": "stdout",
          "text": [
            "Ep 27 Loss: 664.3567\n"
          ]
        },
        {
          "output_type": "stream",
          "name": "stderr",
          "text": [
            "Epoch 28/50: 100%|██████████| 12/12 [01:08<00:00,  5.71s/it]\n"
          ]
        },
        {
          "output_type": "stream",
          "name": "stdout",
          "text": [
            "Ep 28 Loss: 662.6830\n"
          ]
        },
        {
          "output_type": "stream",
          "name": "stderr",
          "text": [
            "Epoch 29/50: 100%|██████████| 12/12 [01:06<00:00,  5.58s/it]\n"
          ]
        },
        {
          "output_type": "stream",
          "name": "stdout",
          "text": [
            "Ep 29 Loss: 663.8225\n"
          ]
        },
        {
          "output_type": "stream",
          "name": "stderr",
          "text": [
            "Epoch 30/50: 100%|██████████| 12/12 [01:07<00:00,  5.65s/it]\n"
          ]
        },
        {
          "output_type": "stream",
          "name": "stdout",
          "text": [
            "Ep 30 Loss: 650.4030\n"
          ]
        },
        {
          "output_type": "stream",
          "name": "stderr",
          "text": [
            "Epoch 31/50: 100%|██████████| 12/12 [01:08<00:00,  5.74s/it]\n"
          ]
        },
        {
          "output_type": "stream",
          "name": "stdout",
          "text": [
            "Ep 31 Loss: 643.0176\n"
          ]
        },
        {
          "output_type": "stream",
          "name": "stderr",
          "text": [
            "Epoch 32/50: 100%|██████████| 12/12 [01:09<00:00,  5.77s/it]\n"
          ]
        },
        {
          "output_type": "stream",
          "name": "stdout",
          "text": [
            "Ep 32 Loss: 619.1950\n"
          ]
        },
        {
          "output_type": "stream",
          "name": "stderr",
          "text": [
            "Epoch 33/50: 100%|██████████| 12/12 [01:08<00:00,  5.70s/it]\n"
          ]
        },
        {
          "output_type": "stream",
          "name": "stdout",
          "text": [
            "Ep 33 Loss: 629.3322\n"
          ]
        },
        {
          "output_type": "stream",
          "name": "stderr",
          "text": [
            "Epoch 34/50: 100%|██████████| 12/12 [01:07<00:00,  5.66s/it]\n"
          ]
        },
        {
          "output_type": "stream",
          "name": "stdout",
          "text": [
            "Ep 34 Loss: 631.0352\n"
          ]
        },
        {
          "output_type": "stream",
          "name": "stderr",
          "text": [
            "Epoch 35/50: 100%|██████████| 12/12 [01:10<00:00,  5.84s/it]\n"
          ]
        },
        {
          "output_type": "stream",
          "name": "stdout",
          "text": [
            "Ep 35 Loss: 648.6865\n"
          ]
        },
        {
          "output_type": "stream",
          "name": "stderr",
          "text": [
            "Epoch 36/50: 100%|██████████| 12/12 [01:06<00:00,  5.57s/it]\n"
          ]
        },
        {
          "output_type": "stream",
          "name": "stdout",
          "text": [
            "Ep 36 Loss: 625.8789\n"
          ]
        },
        {
          "output_type": "stream",
          "name": "stderr",
          "text": [
            "Epoch 37/50: 100%|██████████| 12/12 [01:07<00:00,  5.63s/it]\n"
          ]
        },
        {
          "output_type": "stream",
          "name": "stdout",
          "text": [
            "Ep 37 Loss: 671.3199\n"
          ]
        },
        {
          "output_type": "stream",
          "name": "stderr",
          "text": [
            "Epoch 38/50: 100%|██████████| 12/12 [01:10<00:00,  5.84s/it]\n"
          ]
        },
        {
          "output_type": "stream",
          "name": "stdout",
          "text": [
            "Ep 38 Loss: 652.3274\n"
          ]
        },
        {
          "output_type": "stream",
          "name": "stderr",
          "text": [
            "Epoch 39/50: 100%|██████████| 12/12 [01:09<00:00,  5.76s/it]\n"
          ]
        },
        {
          "output_type": "stream",
          "name": "stdout",
          "text": [
            "Ep 39 Loss: 639.0706\n"
          ]
        },
        {
          "output_type": "stream",
          "name": "stderr",
          "text": [
            "Epoch 40/50: 100%|██████████| 12/12 [01:07<00:00,  5.59s/it]\n"
          ]
        },
        {
          "output_type": "stream",
          "name": "stdout",
          "text": [
            "Ep 40 Loss: 647.8575\n"
          ]
        },
        {
          "output_type": "stream",
          "name": "stderr",
          "text": [
            "Epoch 41/50: 100%|██████████| 12/12 [01:07<00:00,  5.58s/it]\n"
          ]
        },
        {
          "output_type": "stream",
          "name": "stdout",
          "text": [
            "Ep 41 Loss: 656.7370\n"
          ]
        },
        {
          "output_type": "stream",
          "name": "stderr",
          "text": [
            "Epoch 42/50: 100%|██████████| 12/12 [01:09<00:00,  5.82s/it]\n"
          ]
        },
        {
          "output_type": "stream",
          "name": "stdout",
          "text": [
            "Ep 42 Loss: 644.9533\n"
          ]
        },
        {
          "output_type": "stream",
          "name": "stderr",
          "text": [
            "Epoch 43/50: 100%|██████████| 12/12 [01:07<00:00,  5.64s/it]\n"
          ]
        },
        {
          "output_type": "stream",
          "name": "stdout",
          "text": [
            "Ep 43 Loss: 644.5151\n"
          ]
        },
        {
          "output_type": "stream",
          "name": "stderr",
          "text": [
            "Epoch 44/50: 100%|██████████| 12/12 [01:07<00:00,  5.60s/it]\n"
          ]
        },
        {
          "output_type": "stream",
          "name": "stdout",
          "text": [
            "Ep 44 Loss: 640.6361\n"
          ]
        },
        {
          "output_type": "stream",
          "name": "stderr",
          "text": [
            "Epoch 45/50: 100%|██████████| 12/12 [01:06<00:00,  5.56s/it]\n"
          ]
        },
        {
          "output_type": "stream",
          "name": "stdout",
          "text": [
            "Ep 45 Loss: 645.2211\n"
          ]
        },
        {
          "output_type": "stream",
          "name": "stderr",
          "text": [
            "Epoch 46/50: 100%|██████████| 12/12 [01:09<00:00,  5.78s/it]\n"
          ]
        },
        {
          "output_type": "stream",
          "name": "stdout",
          "text": [
            "Ep 46 Loss: 662.6190\n"
          ]
        },
        {
          "output_type": "stream",
          "name": "stderr",
          "text": [
            "Epoch 47/50: 100%|██████████| 12/12 [01:08<00:00,  5.69s/it]\n"
          ]
        },
        {
          "output_type": "stream",
          "name": "stdout",
          "text": [
            "Ep 47 Loss: 649.4446\n"
          ]
        },
        {
          "output_type": "stream",
          "name": "stderr",
          "text": [
            "Epoch 48/50: 100%|██████████| 12/12 [01:08<00:00,  5.72s/it]\n"
          ]
        },
        {
          "output_type": "stream",
          "name": "stdout",
          "text": [
            "Ep 48 Loss: 641.9706\n"
          ]
        },
        {
          "output_type": "stream",
          "name": "stderr",
          "text": [
            "Epoch 49/50: 100%|██████████| 12/12 [01:07<00:00,  5.66s/it]\n"
          ]
        },
        {
          "output_type": "stream",
          "name": "stdout",
          "text": [
            "Ep 49 Loss: 644.7344\n"
          ]
        },
        {
          "output_type": "stream",
          "name": "stderr",
          "text": [
            "Epoch 50/50: 100%|██████████| 12/12 [01:10<00:00,  5.87s/it]"
          ]
        },
        {
          "output_type": "stream",
          "name": "stdout",
          "text": [
            "Ep 50 Loss: 626.6806\n",
            "✅ Pre-training complete, saved to labram_pretrained.pth\n"
          ]
        },
        {
          "output_type": "stream",
          "name": "stderr",
          "text": [
            "\n"
          ]
        }
      ]
    }
  ]
}